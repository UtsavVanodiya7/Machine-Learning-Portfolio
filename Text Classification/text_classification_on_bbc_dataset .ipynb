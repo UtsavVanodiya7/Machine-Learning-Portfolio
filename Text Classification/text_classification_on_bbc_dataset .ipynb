{
 "cells": [
  {
   "cell_type": "markdown",
   "metadata": {},
   "source": [
    "# Text Classification on BBC Dataset\n",
    "\n",
    "### Data Description\n",
    "BBC dataset contains 2225 news documents with five different categories. News articles are text files in separate folders.\n",
    "\n",
    "### Concepts Covered\n",
    "- EDA (Exploratory Data Analysis)\n",
    "\n",
    "\n",
    "- Preprocessing\n",
    "    - Tokenization\n",
    "    - Label Encoding\n",
    "    - Stemming & Lemmatization\n",
    "    - Stopwords & Punctuation\n",
    "    - Noise Removal\n",
    "\n",
    "\n",
    "- Vectorization\n",
    "    - Bag of Words\n",
    "    - TF-IDF \n",
    "\n",
    "\n",
    "- Models\n",
    "    - Logistic Regression\n",
    "    - Support Vector Machine\n",
    "    - Random Forest\n",
    "\n",
    "\n",
    "- Save & Load Model"
   ]
  },
  {
   "cell_type": "markdown",
   "metadata": {},
   "source": [
    "# Import Libraries"
   ]
  },
  {
   "cell_type": "code",
   "execution_count": 146,
   "metadata": {},
   "outputs": [],
   "source": [
    "from nltk.corpus import stopwords\n",
    "from nltk.stem import WordNetLemmatizer\n",
    "from sklearn.preprocessing import LabelEncoder\n",
    "from collections import Counter\n",
    "from nltk.corpus import stopwords\n",
    "from string import punctuation\n",
    "\n",
    "import nltk\n",
    "import os\n",
    "import pandas as pd\n",
    "import seaborn as sns\n",
    "import matplotlib.pyplot as plt\n",
    "import re"
   ]
  },
  {
   "cell_type": "markdown",
   "metadata": {},
   "source": [
    "# Load Data"
   ]
  },
  {
   "cell_type": "code",
   "execution_count": 35,
   "metadata": {},
   "outputs": [],
   "source": [
    "data_dir = r\"U:\\Study\\dataset\\Clustering\\bbc-fulltext\\bbc\"\n",
    "\n",
    "data = []\n",
    "\n",
    "for root, dirs, files in os.walk(data_dir):\n",
    "    for d in dirs:\n",
    "        class_dir = root + os.sep + d\n",
    "        \n",
    "        for path in os.listdir(class_dir):\n",
    "            try:\n",
    "                with open(class_dir + os.sep + path, 'r') as file:\n",
    "                    text = file.read()\n",
    "                    data.append((text, d))\n",
    "            except:\n",
    "                print(f\"Error while reading data from file: {class_dir + os.sep + path}\")\n",
    "\n",
    "                \n",
    "df = pd.DataFrame(data, columns=['Text', 'Label'])"
   ]
  },
  {
   "cell_type": "markdown",
   "metadata": {},
   "source": [
    "# 2. EDA (Exploratory Data Analysis)"
   ]
  },
  {
   "cell_type": "code",
   "execution_count": 36,
   "metadata": {},
   "outputs": [
    {
     "data": {
      "text/html": [
       "<div>\n",
       "<style scoped>\n",
       "    .dataframe tbody tr th:only-of-type {\n",
       "        vertical-align: middle;\n",
       "    }\n",
       "\n",
       "    .dataframe tbody tr th {\n",
       "        vertical-align: top;\n",
       "    }\n",
       "\n",
       "    .dataframe thead th {\n",
       "        text-align: right;\n",
       "    }\n",
       "</style>\n",
       "<table border=\"1\" class=\"dataframe\">\n",
       "  <thead>\n",
       "    <tr style=\"text-align: right;\">\n",
       "      <th></th>\n",
       "      <th>Text</th>\n",
       "      <th>Label</th>\n",
       "    </tr>\n",
       "  </thead>\n",
       "  <tbody>\n",
       "    <tr>\n",
       "      <th>0</th>\n",
       "      <td>Ad sales boost Time Warner profit\\n\\nQuarterly...</td>\n",
       "      <td>business</td>\n",
       "    </tr>\n",
       "    <tr>\n",
       "      <th>1</th>\n",
       "      <td>Dollar gains on Greenspan speech\\n\\nThe dollar...</td>\n",
       "      <td>business</td>\n",
       "    </tr>\n",
       "    <tr>\n",
       "      <th>2</th>\n",
       "      <td>Yukos unit buyer faces loan claim\\n\\nThe owner...</td>\n",
       "      <td>business</td>\n",
       "    </tr>\n",
       "    <tr>\n",
       "      <th>3</th>\n",
       "      <td>High fuel prices hit BA's profits\\n\\nBritish A...</td>\n",
       "      <td>business</td>\n",
       "    </tr>\n",
       "    <tr>\n",
       "      <th>4</th>\n",
       "      <td>Pernod takeover talk lifts Domecq\\n\\nShares in...</td>\n",
       "      <td>business</td>\n",
       "    </tr>\n",
       "  </tbody>\n",
       "</table>\n",
       "</div>"
      ],
      "text/plain": [
       "                                                Text     Label\n",
       "0  Ad sales boost Time Warner profit\\n\\nQuarterly...  business\n",
       "1  Dollar gains on Greenspan speech\\n\\nThe dollar...  business\n",
       "2  Yukos unit buyer faces loan claim\\n\\nThe owner...  business\n",
       "3  High fuel prices hit BA's profits\\n\\nBritish A...  business\n",
       "4  Pernod takeover talk lifts Domecq\\n\\nShares in...  business"
      ]
     },
     "execution_count": 36,
     "metadata": {},
     "output_type": "execute_result"
    }
   ],
   "source": [
    "df.head()"
   ]
  },
  {
   "cell_type": "markdown",
   "metadata": {},
   "source": [
    "If we check the files in text editor then we can see that first line contains the news title."
   ]
  },
  {
   "cell_type": "code",
   "execution_count": 37,
   "metadata": {},
   "outputs": [
    {
     "data": {
      "text/plain": [
       "(2225, 2)"
      ]
     },
     "execution_count": 37,
     "metadata": {},
     "output_type": "execute_result"
    }
   ],
   "source": [
    "# Number of Instances\n",
    "df.shape"
   ]
  },
  {
   "cell_type": "markdown",
   "metadata": {},
   "source": [
    "### Category wise count"
   ]
  },
  {
   "cell_type": "code",
   "execution_count": 38,
   "metadata": {},
   "outputs": [
    {
     "data": {
      "text/plain": [
       "sport            511\n",
       "business         510\n",
       "politics         417\n",
       "tech             401\n",
       "entertainment    386\n",
       "Name: Label, dtype: int64"
      ]
     },
     "execution_count": 38,
     "metadata": {},
     "output_type": "execute_result"
    }
   ],
   "source": [
    "df['Label'].value_counts()"
   ]
  },
  {
   "cell_type": "code",
   "execution_count": 39,
   "metadata": {},
   "outputs": [
    {
     "data": {
      "text/plain": [
       "[]"
      ]
     },
     "execution_count": 39,
     "metadata": {},
     "output_type": "execute_result"
    },
    {
     "data": {
      "image/png": "[encoded data removed]",
      "text/plain": [
       "<Figure size 432x288 with 1 Axes>"
      ]
     },
     "metadata": {
      "needs_background": "light"
     },
     "output_type": "display_data"
    }
   ],
   "source": [
    "sns.countplot(x='Label', data=df)\n",
    "plt.plot()"
   ]
  },
  {
   "cell_type": "markdown",
   "metadata": {},
   "source": [
    "#### Observation:\n",
    "We have almost all class count neary equal, we can say that our dataset is balanced.\n",
    "\n",
    "Further analysis like unique words and most frequent words. We will do it after preprocessing."
   ]
  },
  {
   "cell_type": "markdown",
   "metadata": {},
   "source": [
    "# 2. Preprocessing"
   ]
  },
  {
   "cell_type": "markdown",
   "metadata": {},
   "source": [
    "### 2.1 Tokenization\n",
    "There are multiple ways to tokenize text. Simplest way is to split by whitespace. However, spliting by whitespace doesn't give proper tokens. \n",
    "Here, we will use NLTK library to tokenize text in to sentence, then in to the words. This way, we will get proper words."
   ]
  },
  {
   "cell_type": "code",
   "execution_count": 115,
   "metadata": {},
   "outputs": [],
   "source": [
    "preprocessd_data = []\n",
    "\n",
    "for idx, row in df.iterrows():\n",
    "    text = row['Text'].lower()\n",
    "    words =[]\n",
    "    \n",
    "    for sentence in nltk.sent_tokenize(text):\n",
    "        words.extend(nltk.word_tokenize(sentence))\n",
    "        \n",
    "    preprocessd_data.append(words)"
   ]
  },
  {
   "cell_type": "markdown",
   "metadata": {},
   "source": [
    "### 2.2 Stemming & Lemmatization\n",
    "\n",
    "Lemmatization transforms word into the root form. For example, playing, played, plays become play. Stemming also does the same thing almost, but it literally transforms the word based on rules even if word doesn't exists in the language. Lemmatization solves this issue by using the language knowledge. That's why we are using Lemmatization here instead of stemming."
   ]
  },
  {
   "cell_type": "code",
   "execution_count": 134,
   "metadata": {},
   "outputs": [],
   "source": [
    "wordnet_lemmatizer = WordNetLemmatizer()\n",
    "lemmatized_data = []\n",
    "\n",
    "for words in preprocessd_data:\n",
    "    lemmatized_data.append([wordnet_lemmatizer.lemmatize(word) for word in words])"
   ]
  },
  {
   "cell_type": "markdown",
   "metadata": {},
   "source": [
    "### 2.3 Label Encoding\n",
    "\n",
    "Our labels are in string. Machine Learning algorithms need data in numerical format. So, we will transform our labels in to the numbers. For example, sports to 0, business to 1 and so on. To do this, we will use LabelEncoder from sklearn library. \n",
    "\n",
    "fit_transform funcation creates number of integers as per the labels and also converts existing labels into the numbers and returns it."
   ]
  },
  {
   "cell_type": "code",
   "execution_count": 135,
   "metadata": {},
   "outputs": [
    {
     "data": {
      "text/plain": [
       "array(['business', 'entertainment', 'politics', 'sport', 'tech'],\n",
       "      dtype=object)"
      ]
     },
     "execution_count": 135,
     "metadata": {},
     "output_type": "execute_result"
    }
   ],
   "source": [
    "label_encoder = LabelEncoder()\n",
    "new_labels = label_encoder.fit_transform(df['Label'])\n",
    "\n",
    "label_encoder.classes_"
   ]
  },
  {
   "cell_type": "code",
   "execution_count": 136,
   "metadata": {},
   "outputs": [
    {
     "data": {
      "text/plain": [
       "3    511\n",
       "0    510\n",
       "2    417\n",
       "4    401\n",
       "1    386\n",
       "Name: Label, dtype: int64"
      ]
     },
     "execution_count": 136,
     "metadata": {},
     "output_type": "execute_result"
    }
   ],
   "source": [
    "df_2['Label'].value_counts()"
   ]
  },
  {
   "cell_type": "markdown",
   "metadata": {},
   "source": [
    "## Word Analysis\n",
    "\n",
    "Before moving to stopwords and noise removal, let's analyse the unique words and most frequent words."
   ]
  },
  {
   "cell_type": "code",
   "execution_count": 137,
   "metadata": {},
   "outputs": [],
   "source": [
    "word_counter = Counter(w for l1 in lemmatized_data for w in set(l1))"
   ]
  },
  {
   "cell_type": "code",
   "execution_count": 138,
   "metadata": {},
   "outputs": [
    {
     "data": {
      "text/plain": [
       "31756"
      ]
     },
     "execution_count": 138,
     "metadata": {},
     "output_type": "execute_result"
    }
   ],
   "source": [
    "# Unique Words\n",
    "len(word_counter.keys())"
   ]
  },
  {
   "cell_type": "code",
   "execution_count": 139,
   "metadata": {},
   "outputs": [
    {
     "data": {
      "text/plain": [
       "[(',', 2225),\n",
       " ('.', 2225),\n",
       " ('the', 2225),\n",
       " ('a', 2216),\n",
       " ('to', 2214),\n",
       " ('of', 2207),\n",
       " ('and', 2205),\n",
       " ('in', 2204),\n",
       " ('for', 2083),\n",
       " (\"'s\", 2063),\n",
       " ('on', 2015),\n",
       " ('it', 1986),\n",
       " ('is', 1923),\n",
       " ('``', 1922),\n",
       " (\"''\", 1919),\n",
       " ('said', 1888),\n",
       " ('that', 1848),\n",
       " ('with', 1838),\n",
       " ('ha', 1830),\n",
       " ('at', 1769),\n",
       " ('wa', 1754),\n",
       " ('be', 1729),\n",
       " ('by', 1709),\n",
       " ('have', 1668),\n",
       " ('but', 1629),\n",
       " ('from', 1565),\n",
       " ('will', 1470),\n",
       " ('are', 1459),\n",
       " ('an', 1425),\n",
       " ('he', 1406),\n",
       " ('not', 1386),\n",
       " ('which', 1345),\n",
       " ('this', 1343),\n",
       " ('year', 1320),\n",
       " ('been', 1316),\n",
       " ('also', 1265),\n",
       " ('had', 1213),\n",
       " ('would', 1156),\n",
       " ('they', 1152),\n",
       " ('up', 1135),\n",
       " ('their', 1126),\n",
       " ('were', 1121),\n",
       " ('more', 1108),\n",
       " ('-', 1093),\n",
       " ('who', 1092),\n",
       " ('one', 1042),\n",
       " ('we', 1021),\n",
       " ('his', 1013),\n",
       " ('out', 1008),\n",
       " ('after', 1006),\n",
       " ('about', 981),\n",
       " ('new', 978),\n",
       " ('there', 960),\n",
       " ('than', 958),\n",
       " ('over', 922),\n",
       " ('last', 908),\n",
       " ('(', 906),\n",
       " (')', 906),\n",
       " ('all', 896),\n",
       " ('could', 893),\n",
       " ('i', 893),\n",
       " (':', 882),\n",
       " ('time', 880),\n",
       " ('or', 840),\n",
       " ('when', 839),\n",
       " ('u', 835),\n",
       " ('if', 824),\n",
       " ('two', 814),\n",
       " ('can', 805),\n",
       " ('people', 797),\n",
       " ('mr', 795),\n",
       " ('other', 794),\n",
       " ('first', 781),\n",
       " ('into', 778),\n",
       " ('now', 774),\n",
       " (\"'\", 760),\n",
       " ('do', 750),\n",
       " ('some', 718),\n",
       " ('make', 703),\n",
       " ('say', 680),\n",
       " ('world', 666),\n",
       " ('so', 664),\n",
       " ('only', 662),\n",
       " ('no', 650),\n",
       " ('made', 648),\n",
       " ('being', 643),\n",
       " ('what', 638),\n",
       " ('take', 632),\n",
       " ('%', 630),\n",
       " (\"n't\", 628),\n",
       " ('told', 617),\n",
       " ('get', 615),\n",
       " ('them', 604),\n",
       " ('just', 604),\n",
       " ('before', 600),\n",
       " ('against', 596),\n",
       " ('way', 585),\n",
       " ('while', 584),\n",
       " ('back', 580),\n",
       " ('month', 578)]"
      ]
     },
     "execution_count": 139,
     "metadata": {},
     "output_type": "execute_result"
    }
   ],
   "source": [
    "# Most Frequent Words\n",
    "word_counter.most_common(100)"
   ]
  },
  {
   "cell_type": "markdown",
   "metadata": {},
   "source": [
    "We can notice that there is a lots of noise in the data. Most common words are like and, of, the, etc. So, we need to remove this kind of data because it's not useful. This kind of words are called stopwords and we can use nltk to deal with that. Other characters like ',', '(', '-' are called punctuations and we can use string module for that. Regular expressions are also used to remove noise like URLs, digits, specific type of pattern."
   ]
  },
  {
   "cell_type": "markdown",
   "metadata": {},
   "source": [
    "### 2.4 Stopwords & Punctuation"
   ]
  },
  {
   "cell_type": "code",
   "execution_count": 144,
   "metadata": {},
   "outputs": [],
   "source": [
    "filtered_data = []\n",
    "\n",
    "stop_words = stopwords.words('english')\n",
    "\n",
    "for words in lemmatized_data:\n",
    "    filtered_words = []\n",
    "    \n",
    "    for word in words:\n",
    "        if word not in stop_words and word not in punctuation:\n",
    "            filtered_words.append(word)\n",
    "    \n",
    "    filtered_data.append(filtered_words)"
   ]
  },
  {
   "cell_type": "code",
   "execution_count": 145,
   "metadata": {},
   "outputs": [
    {
     "name": "stdout",
     "output_type": "stream",
     "text": [
      "Unique words after filtering: 31606\n"
     ]
    },
    {
     "data": {
      "text/plain": [
       "[(\"'s\", 2063),\n",
       " ('``', 1922),\n",
       " (\"''\", 1919),\n",
       " ('said', 1888),\n",
       " ('ha', 1830),\n",
       " ('wa', 1754),\n",
       " ('year', 1320),\n",
       " ('also', 1265),\n",
       " ('would', 1156),\n",
       " ('one', 1042),\n",
       " ('new', 978),\n",
       " ('last', 908),\n",
       " ('could', 893),\n",
       " ('time', 880),\n",
       " ('u', 835),\n",
       " ('two', 814),\n",
       " ('people', 797),\n",
       " ('mr', 795),\n",
       " ('first', 781),\n",
       " ('make', 703),\n",
       " ('say', 680),\n",
       " ('world', 666),\n",
       " ('made', 648),\n",
       " ('take', 632),\n",
       " (\"n't\", 628),\n",
       " ('told', 617),\n",
       " ('get', 615),\n",
       " ('way', 585),\n",
       " ('back', 580),\n",
       " ('month', 578),\n",
       " ('added', 577),\n",
       " ('week', 563),\n",
       " ('three', 559),\n",
       " ('number', 547),\n",
       " ('like', 545),\n",
       " ('next', 543),\n",
       " ('company', 535),\n",
       " ('well', 534),\n",
       " ('many', 527),\n",
       " ('uk', 524),\n",
       " ('set', 516),\n",
       " ('go', 500),\n",
       " ('want', 497),\n",
       " ('since', 490),\n",
       " ('come', 488),\n",
       " ('government', 479),\n",
       " ('still', 476),\n",
       " ('bbc', 475),\n",
       " ('day', 471),\n",
       " ('may', 468),\n",
       " ('see', 467),\n",
       " ('firm', 464),\n",
       " ('part', 461),\n",
       " ('good', 460),\n",
       " ('much', 451),\n",
       " ('work', 450),\n",
       " ('game', 444),\n",
       " ('going', 441),\n",
       " ('country', 440),\n",
       " ('second', 424),\n",
       " ('end', 423),\n",
       " ('need', 419),\n",
       " ('however', 417),\n",
       " ('home', 412),\n",
       " ('win', 412),\n",
       " ('right', 406),\n",
       " ('think', 402),\n",
       " ('market', 393),\n",
       " ('group', 393),\n",
       " ('million', 391),\n",
       " ('plan', 383),\n",
       " ('show', 382),\n",
       " ('put', 382),\n",
       " ('expected', 381),\n",
       " ('player', 379),\n",
       " ('five', 378),\n",
       " ('already', 374),\n",
       " ('play', 372),\n",
       " ('news', 370),\n",
       " ('service', 368),\n",
       " ('place', 363),\n",
       " ('best', 359),\n",
       " ('chief', 357),\n",
       " ('minister', 357),\n",
       " ('top', 357),\n",
       " ('used', 355),\n",
       " ('four', 354),\n",
       " ('use', 352),\n",
       " ('even', 352),\n",
       " ('problem', 344),\n",
       " ('hit', 339),\n",
       " ('including', 339),\n",
       " ('former', 335),\n",
       " ('move', 333),\n",
       " ('according', 333),\n",
       " ('help', 331),\n",
       " ('public', 330),\n",
       " ('2004', 328),\n",
       " ('give', 328),\n",
       " ('director', 325)]"
      ]
     },
     "execution_count": 145,
     "metadata": {},
     "output_type": "execute_result"
    }
   ],
   "source": [
    "word_counter_2 = Counter(w for l1 in filtered_data for w in set(l1))\n",
    "\n",
    "# Unique Words\n",
    "print(\"Unique words after filtering:\", len(word_counter_2.keys()))\n",
    "\n",
    "# Most Common Words After Filtering\n",
    "word_counter_2.most_common(100)"
   ]
  },
  {
   "cell_type": "markdown",
   "metadata": {},
   "source": [
    "Here, we can see that our result is improved but still there are certain words with punctuation and digits like 's, n't, 2004, etc. We can remove it by using regular expressions."
   ]
  },
  {
   "cell_type": "markdown",
   "metadata": {},
   "source": [
    "### 2.5 Noise Removal"
   ]
  },
  {
   "cell_type": "markdown",
   "metadata": {},
   "source": [
    "We will remove word if it contains any other character than alphabets."
   ]
  },
  {
   "cell_type": "code",
   "execution_count": 171,
   "metadata": {},
   "outputs": [],
   "source": [
    "clean_data = []\n",
    "\n",
    "noise_clean = re.compile(r\"[^a-z]\")\n",
    "\n",
    "for words in filtered_data:\n",
    "    clean_words = []\n",
    "    \n",
    "    for word in words:\n",
    "        if noise_clean.search(word) is None:\n",
    "            clean_words.append(word)\n",
    "    \n",
    "    clean_data.append(clean_words)"
   ]
  },
  {
   "cell_type": "code",
   "execution_count": 172,
   "metadata": {},
   "outputs": [
    {
     "name": "stdout",
     "output_type": "stream",
     "text": [
      "Unique words after cleaning noise: 24228\n"
     ]
    },
    {
     "data": {
      "text/plain": [
       "[('said', 1888),\n",
       " ('ha', 1830),\n",
       " ('wa', 1754),\n",
       " ('year', 1320),\n",
       " ('also', 1265),\n",
       " ('would', 1156),\n",
       " ('one', 1042),\n",
       " ('new', 978),\n",
       " ('last', 908),\n",
       " ('could', 893),\n",
       " ('time', 880),\n",
       " ('u', 835),\n",
       " ('two', 814),\n",
       " ('people', 797),\n",
       " ('mr', 795),\n",
       " ('first', 781),\n",
       " ('make', 703),\n",
       " ('say', 680),\n",
       " ('world', 666),\n",
       " ('made', 648),\n",
       " ('take', 632),\n",
       " ('told', 617),\n",
       " ('get', 615),\n",
       " ('way', 585),\n",
       " ('back', 580),\n",
       " ('month', 578),\n",
       " ('added', 577),\n",
       " ('week', 563),\n",
       " ('three', 559),\n",
       " ('number', 547),\n",
       " ('like', 545),\n",
       " ('next', 543),\n",
       " ('company', 535),\n",
       " ('well', 534),\n",
       " ('many', 527),\n",
       " ('uk', 524),\n",
       " ('set', 516),\n",
       " ('go', 500),\n",
       " ('want', 497),\n",
       " ('since', 490),\n",
       " ('come', 488),\n",
       " ('government', 479),\n",
       " ('still', 476),\n",
       " ('bbc', 475),\n",
       " ('day', 471),\n",
       " ('may', 468),\n",
       " ('see', 467),\n",
       " ('firm', 464),\n",
       " ('part', 461),\n",
       " ('good', 460),\n",
       " ('much', 451),\n",
       " ('work', 450),\n",
       " ('game', 444),\n",
       " ('going', 441),\n",
       " ('country', 440),\n",
       " ('second', 424),\n",
       " ('end', 423),\n",
       " ('need', 419),\n",
       " ('however', 417),\n",
       " ('home', 412),\n",
       " ('win', 412),\n",
       " ('right', 406),\n",
       " ('think', 402),\n",
       " ('market', 393),\n",
       " ('group', 393),\n",
       " ('million', 391),\n",
       " ('plan', 383),\n",
       " ('show', 382),\n",
       " ('put', 382),\n",
       " ('expected', 381),\n",
       " ('player', 379),\n",
       " ('five', 378),\n",
       " ('already', 374),\n",
       " ('play', 372),\n",
       " ('news', 370),\n",
       " ('service', 368),\n",
       " ('place', 363),\n",
       " ('best', 359),\n",
       " ('chief', 357),\n",
       " ('minister', 357),\n",
       " ('top', 357),\n",
       " ('used', 355),\n",
       " ('four', 354),\n",
       " ('use', 352),\n",
       " ('even', 352),\n",
       " ('problem', 344),\n",
       " ('hit', 339),\n",
       " ('including', 339),\n",
       " ('former', 335),\n",
       " ('move', 333),\n",
       " ('according', 333),\n",
       " ('help', 331),\n",
       " ('public', 330),\n",
       " ('give', 328),\n",
       " ('director', 325),\n",
       " ('sale', 324),\n",
       " ('report', 324),\n",
       " ('six', 321),\n",
       " ('another', 317),\n",
       " ('around', 314)]"
      ]
     },
     "execution_count": 172,
     "metadata": {},
     "output_type": "execute_result"
    }
   ],
   "source": [
    "word_counter_3 = Counter(w for l1 in clean_data for w in set(l1))\n",
    "\n",
    "# Unique Words\n",
    "print(\"Unique words after cleaning noise:\", len(word_counter_3.keys()))\n",
    "\n",
    "# Most Common Words After Filtering\n",
    "word_counter_3.most_common(100)"
   ]
  }
 ],
 "metadata": {
  "kernelspec": {
   "display_name": "Python 3",
   "language": "python",
   "name": "python3"
  },
  "language_info": {
   "codemirror_mode": {
    "name": "ipython",
    "version": 3
   },
   "file_extension": ".py",
   "mimetype": "text/x-python",
   "name": "python",
   "nbconvert_exporter": "python",
   "pygments_lexer": "ipython3",
   "version": "3.8.3"
  }
 },
 "nbformat": 4,
 "nbformat_minor": 4
}
