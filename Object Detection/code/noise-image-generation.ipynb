{
 "cells": [
  {
   "cell_type": "code",
   "execution_count": 1,
   "metadata": {
    "_cell_guid": "79c7e3d0-c299-4dcb-8224-4455121ee9b0",
    "_uuid": "d629ff2d2480ee46fbb7e2d37f6b5fab8052498a",
    "execution": {
     "iopub.execute_input": "2020-12-03T12:39:58.780943Z",
     "iopub.status.busy": "2020-12-03T12:39:58.777658Z",
     "iopub.status.idle": "2020-12-03T12:46:59.788129Z",
     "shell.execute_reply": "2020-12-03T12:46:59.787356Z"
    },
    "papermill": {
     "duration": 421.034501,
     "end_time": "2020-12-03T12:46:59.788292",
     "exception": false,
     "start_time": "2020-12-03T12:39:58.753791",
     "status": "completed"
    },
    "tags": []
   },
   "outputs": [
    {
     "name": "stdout",
     "output_type": "stream",
     "text": [
      "ERROR: {'area': 247755, 'iscrowd': 0, 'id': 235, 'image_id': 10309, 'category_id': 1, 'bbox': [404, 165, 415, 597], 'image_path': '../input/til2020/train/train/10309.jpg', 'cat': 'tops'}\n",
      "ERROR: {'area': 129876, 'iscrowd': 0, 'id': 252, 'image_id': 10331, 'category_id': 1, 'bbox': [395, 110, 274, 474], 'image_path': '../input/til2020/train/train/10331.jpg', 'cat': 'tops'}\n",
      "ERROR: {'area': 12558, 'iscrowd': 0, 'id': 502, 'image_id': 10642, 'category_id': 2, 'bbox': [243, 210, 91, 138], 'image_path': '../input/til2020/train/train/10642.jpg', 'cat': 'trousers'}\n",
      "ERROR: {'area': 99600, 'iscrowd': 0, 'id': 1272, 'image_id': 435, 'category_id': 4, 'bbox': [146, 184, 249, 400], 'image_path': '../input/til2020/train/train/435.jpg', 'cat': 'dresses'}\n",
      "ERROR: {'area': 435890, 'iscrowd': 0, 'id': 1342, 'image_id': 517, 'category_id': 4, 'bbox': [165, 374, 479, 910], 'image_path': '../input/til2020/train/train/517.jpg', 'cat': 'dresses'}\n",
      "ERROR: {'area': 634011, 'iscrowd': 0, 'id': 1412, 'image_id': 627, 'category_id': 4, 'bbox': [233, 400, 681, 931], 'image_path': '../input/til2020/train/train/627.jpg', 'cat': 'dresses'}\n",
      "ERROR: {'area': 151202, 'iscrowd': 0, 'id': 1807, 'image_id': 287, 'category_id': 5, 'bbox': [268, 391, 346, 437], 'image_path': '../input/til2020/train/train/287.jpg', 'cat': 'skirts'}\n",
      "ERROR: {'image_id': 8248, 'id': 1979, 'iscrowd': 0, 'category_id': 4, 'bbox': [227, 515, 583, 1111], 'area': 647713.0, 'image_path': '../input/til2020/train/train/8248.jpg', 'cat': 'dresses'}\n",
      "ERROR: {'image_id': 15556, 'id': 2084, 'iscrowd': 0, 'category_id': 4, 'bbox': [252, 33, 653, 1553], 'area': 1014109.0, 'image_path': '../input/til2020/train/train/15556.jpg', 'cat': 'dresses'}\n",
      "ERROR: {'image_id': 14641, 'id': 2229, 'iscrowd': 0, 'category_id': 4, 'bbox': [68, 281, 323, 615], 'area': 198645.0, 'image_path': '../input/til2020/train/train/14641.jpg', 'cat': 'dresses'}\n",
      "ERROR: {'image_id': 8304, 'id': 2294, 'iscrowd': 0, 'category_id': 4, 'bbox': [239, 126, 209, 311], 'area': 64999.0, 'image_path': '../input/til2020/train/train/8304.jpg', 'cat': 'dresses'}\n",
      "ERROR: {'image_id': 14617, 'id': 2577, 'iscrowd': 0, 'category_id': 4, 'bbox': [187, 229, 248, 380], 'area': 94240.0, 'image_path': '../input/til2020/train/train/14617.jpg', 'cat': 'dresses'}\n",
      "ERROR: {'image_id': 4093, 'id': 2642, 'iscrowd': 0, 'category_id': 4, 'bbox': [14, 137, 284, 321], 'area': 91164.0, 'image_path': '../input/til2020/train/train/4093.jpg', 'cat': 'dresses'}\n",
      "ERROR: {'image_id': 16573, 'id': 2749, 'iscrowd': 0, 'category_id': 4, 'bbox': [60, 198, 524, 484], 'area': 253616.0, 'image_path': '../input/til2020/train/train/16573.jpg', 'cat': 'dresses'}\n",
      "ERROR: {'image_id': 4562, 'id': 3194, 'iscrowd': 0, 'category_id': 4, 'bbox': [30, 181, 446, 643], 'area': 286778.0, 'image_path': '../input/til2020/train/train/4562.jpg', 'cat': 'dresses'}\n",
      "ERROR: {'image_id': 3722, 'id': 3251, 'iscrowd': 0, 'category_id': 4, 'bbox': [155, 133, 176, 267], 'area': 46992.0, 'image_path': '../input/til2020/train/train/3722.jpg', 'cat': 'dresses'}\n",
      "ERROR: {'image_id': 3677, 'id': 3415, 'iscrowd': 0, 'category_id': 4, 'bbox': [124, 149, 257, 428], 'area': 109996.0, 'image_path': '../input/til2020/train/train/3677.jpg', 'cat': 'dresses'}\n",
      "ERROR: {'image_id': 4640, 'id': 3426, 'iscrowd': 0, 'category_id': 4, 'bbox': [137, 214, 369, 953], 'area': 351657.0, 'image_path': '../input/til2020/train/train/4640.jpg', 'cat': 'dresses'}\n",
      "ERROR: {'image_id': 4046, 'id': 3460, 'iscrowd': 0, 'category_id': 4, 'bbox': [182, 175, 290, 512], 'area': 148480.0, 'image_path': '../input/til2020/train/train/4046.jpg', 'cat': 'dresses'}\n",
      "ERROR: {'image_id': 6969, 'id': 4016, 'iscrowd': 0, 'category_id': 2, 'bbox': [512, 656, 89, 159], 'area': 14151.0, 'image_path': '../input/til2020/train/train/6969.jpg', 'cat': 'trousers'}\n",
      "ERROR: {'image_id': 9301, 'id': 4146, 'iscrowd': 0, 'category_id': 4, 'bbox': [0, 57, 972, 1943], 'area': 1888596.0, 'image_path': '../input/til2020/train/train/9301.jpg', 'cat': 'dresses'}\n",
      "ERROR: {'image_id': 6313, 'id': 4416, 'iscrowd': 0, 'category_id': 4, 'bbox': [370, 141, 209, 174], 'area': 36366.0, 'image_path': '../input/til2020/train/train/6313.jpg', 'cat': 'dresses'}\n",
      "ERROR: {'image_id': 11174, 'id': 4506, 'iscrowd': 0, 'category_id': 4, 'bbox': [205, 275, 178, 259], 'area': 46102.0, 'image_path': '../input/til2020/train/train/11174.jpg', 'cat': 'dresses'}\n",
      "ERROR: {'image_id': 13120, 'id': 4559, 'iscrowd': 0, 'category_id': 4, 'bbox': [225, 378, 454, 666], 'area': 302364.0, 'image_path': '../input/til2020/train/train/13120.jpg', 'cat': 'dresses'}\n",
      "ERROR: {'image_id': 5949, 'id': 4719, 'iscrowd': 0, 'category_id': 4, 'bbox': [2779, 294, 761, 1171], 'area': 891131.0, 'image_path': '../input/til2020/train/train/5949.jpg', 'cat': 'dresses'}\n",
      "ERROR: {'image_id': 18647, 'id': 4887, 'iscrowd': 0, 'category_id': 4, 'bbox': [484, 188, 360, 942], 'area': 339120.0, 'image_path': '../input/til2020/train/train/18647.jpg', 'cat': 'dresses'}\n",
      "ERROR: {'image_id': 8122, 'id': 4897, 'iscrowd': 0, 'category_id': 4, 'bbox': [9, 271, 384, 880], 'area': 337920.0, 'image_path': '../input/til2020/train/train/8122.jpg', 'cat': 'dresses'}\n",
      "ERROR: {'image_id': 14874, 'id': 5486, 'iscrowd': 0, 'category_id': 4, 'bbox': [348, 468, 563, 1115], 'area': 627745.0, 'image_path': '../input/til2020/train/train/14874.jpg', 'cat': 'dresses'}\n"
     ]
    },
    {
     "name": "stderr",
     "output_type": "stream",
     "text": [
      "/opt/conda/lib/python3.7/site-packages/PIL/Image.py:2837: DecompressionBombWarning: Image size (123871510 pixels) exceeds limit of 89478485 pixels, could be decompression bomb DOS attack.\n",
      "  DecompressionBombWarning,\n"
     ]
    },
    {
     "name": "stdout",
     "output_type": "stream",
     "text": [
      "ERROR: {'image_id': 6245, 'id': 5859, 'iscrowd': 0, 'category_id': 4, 'bbox': [130, 231, 318, 476], 'area': 151368.0, 'image_path': '../input/til2020/train/train/6245.jpg', 'cat': 'dresses'}\n"
     ]
    }
   ],
   "source": [
    "from PIL import Image\n",
    "\n",
    "import json\n",
    "import traceback\n",
    "\n",
    "base_dir = '../input/til2020/'\n",
    "\n",
    "with open(base_dir + r\"train.json\",\"r\") as file:\n",
    "    train_data = json.load(file)\n",
    "    \n",
    "with open(base_dir + r\"val.json\",\"r\") as file:\n",
    "    val_data = json.load(file)\n",
    "    \n",
    "train_annotations = train_data['annotations']\n",
    "train_images = train_data['images']\n",
    "categories = train_data['categories']\n",
    "\n",
    "val_annotations = val_data['annotations']\n",
    "val_images = val_data['images']\n",
    "\n",
    "category_mapping = {}\n",
    "\n",
    "for category_item in categories:\n",
    "    category_mapping[category_item['id']] = category_item['name']\n",
    "\n",
    "train_id_to_path_mapping = {}\n",
    "\n",
    "for image_item in train_images:\n",
    "    train_id_to_path_mapping[image_item['id']] = image_item['file_name']\n",
    "    \n",
    "val_id_to_path_mapping = {}\n",
    "\n",
    "for image_item in val_images:\n",
    "    val_id_to_path_mapping[image_item['id']] = image_item['file_name']\n",
    "    \n",
    "for annotation in train_annotations:\n",
    "    annotation['image_path'] = '../input/til2020/train/train/'+train_id_to_path_mapping[annotation['image_id']]\n",
    "    annotation['cat'] = category_mapping[annotation['category_id']]\n",
    "    annotation['bbox'] = list(map(int,annotation['bbox']))\n",
    "    \n",
    "for annotation in val_annotations:\n",
    "    annotation['image_path'] = '../input/til2020/val/val/'+val_id_to_path_mapping[annotation['image_id']]\n",
    "    annotation['cat'] = category_mapping[annotation['category_id']]\n",
    "    annotation['bbox'] = list(map(int,annotation['bbox']))\n",
    "    \n",
    "annotations = train_annotations + val_annotations\n",
    "\n",
    "# We will generate 3700 noise images.\n",
    "\n",
    "max_samples = 3700\n",
    "count = 0\n",
    "already_seen = set()\n",
    "\n",
    "# output_dir = '../kaggle/working/noise/'\n",
    "\n",
    "# os.makedirs(output_dir, exist_ok=True)\n",
    "\n",
    "for i in range(0, max_samples*20):\n",
    "    try:\n",
    "        if count >= max_samples:\n",
    "            break\n",
    "            \n",
    "        annot = train_annotations[i]\n",
    "        img_path = annot['image_path']\n",
    "\n",
    "        if img_path in already_seen:\n",
    "            continue\n",
    "\n",
    "        already_seen.add(img_path)\n",
    "\n",
    "        x,y,w,h = annot['bbox']\n",
    "\n",
    "        im = Image.open(annot['image_path'])\n",
    "        im1 = im.crop((0, 0, w,h))\n",
    "        im1.save(\"noise_\"+str(count+1)+\".jpg\")\n",
    "        \n",
    "        count+=1\n",
    "    except:\n",
    "        print(\"ERROR:\", train_annotations[i])\n",
    "#         traceback.print_exc()\n",
    "#         break"
   ]
  }
 ],
 "metadata": {
  "kernelspec": {
   "display_name": "Python 3",
   "language": "python",
   "name": "python3"
  },
  "language_info": {
   "codemirror_mode": {
    "name": "ipython",
    "version": 3
   },
   "file_extension": ".py",
   "mimetype": "text/x-python",
   "name": "python",
   "nbconvert_exporter": "python",
   "pygments_lexer": "ipython3",
   "version": "3.7.6"
  },
  "papermill": {
   "duration": 427.100591,
   "end_time": "2020-12-03T12:47:00.834838",
   "environment_variables": {},
   "exception": null,
   "input_path": "__notebook__.ipynb",
   "output_path": "__notebook__.ipynb",
   "parameters": {},
   "start_time": "2020-12-03T12:39:53.734247",
   "version": "2.1.0"
  }
 },
 "nbformat": 4,
 "nbformat_minor": 4
}
